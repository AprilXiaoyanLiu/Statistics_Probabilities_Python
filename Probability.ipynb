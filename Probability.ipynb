{
 "cells": [
  {
   "cell_type": "markdown",
   "metadata": {},
   "source": [
    "## Probability Mass Function"
   ]
  },
  {
   "cell_type": "code",
   "execution_count": 47,
   "metadata": {
    "collapsed": false
   },
   "outputs": [],
   "source": [
    "import matplotlib.pyplot as plt\n",
    "%matplotlib inline\n"
   ]
  },
  {
   "cell_type": "code",
   "execution_count": 17,
   "metadata": {
    "collapsed": false
   },
   "outputs": [],
   "source": [
    "import pandas as pd\n",
    "df = pd.read_csv('/Users/April/Downloads/overall_data_8.24.17.csv')"
   ]
  },
  {
   "cell_type": "code",
   "execution_count": 52,
   "metadata": {
    "collapsed": false
   },
   "outputs": [],
   "source": [
    "t= np.random.randint(50, size=1000)  # generate random integer numbers"
   ]
  },
  {
   "cell_type": "code",
   "execution_count": 53,
   "metadata": {
    "collapsed": false
   },
   "outputs": [],
   "source": [
    "# use dictionary to create\n",
    "hist = {}\n",
    "for x in t:\n",
    "    hist[x] = hist.get(x,0) + 1"
   ]
  },
  {
   "cell_type": "code",
   "execution_count": null,
   "metadata": {
    "collapsed": true
   },
   "outputs": [],
   "source": [
    "# use pandas\n",
    "pd.Series(t).value_counts()"
   ]
  },
  {
   "cell_type": "markdown",
   "metadata": {},
   "source": [
    "To get from frequencies to probabilities, we devide through by n, which is called normalization:\n",
    "Probability Mass Function (PMF) Gives the probability that a discrete random variable takes on the value x.\n",
    "￼pX (x) = P (X = x)"
   ]
  },
  {
   "cell_type": "code",
   "execution_count": 54,
   "metadata": {
    "collapsed": true
   },
   "outputs": [],
   "source": [
    "n = float(len(t))\n",
    "pmf = {}\n",
    "for x, freq in hist.items():\n",
    "    pmf[x] = freq/n"
   ]
  },
  {
   "cell_type": "code",
   "execution_count": 56,
   "metadata": {
    "collapsed": false
   },
   "outputs": [
    {
     "data": {
      "text/plain": [
       "(array([ 17.,   0.,   0.,   0.,  23.,   0.,   0.,   0.,  25.,   0.,   0.,\n",
       "          0.,  18.,   0.,   0.,   0.,  19.,   0.,   0.,   0.,  21.,   0.,\n",
       "          0.,   0.,  29.,   0.,   0.,   0.,  20.,   0.,   0.,   0.,  22.,\n",
       "          0.,   0.,   0.,  12.,   0.,   0.,   0.,  13.,   0.,   0.,   0.,\n",
       "         24.,   0.,   0.,   0.,  22.,   0.,   0.,   0.,   0.,  16.,   0.,\n",
       "          0.,   0.,  18.,   0.,   0.,   0.,  19.,   0.,   0.,   0.,  20.,\n",
       "          0.,   0.,   0.,  23.,   0.,   0.,   0.,  29.,   0.,   0.,   0.,\n",
       "         29.,   0.,   0.,   0.,  11.,   0.,   0.,   0.,  16.,   0.,   0.,\n",
       "          0.,  15.,   0.,   0.,   0.,  20.,   0.,   0.,   0.,  22.,   0.,\n",
       "          0.,   0.,   0.,  13.,   0.,   0.,   0.,  25.,   0.,   0.,   0.,\n",
       "         16.,   0.,   0.,   0.,  17.,   0.,   0.,   0.,  18.,   0.,   0.,\n",
       "          0.,  24.,   0.,   0.,   0.,  19.,   0.,   0.,   0.,  16.,   0.,\n",
       "          0.,   0.,  19.,   0.,   0.,   0.,  21.,   0.,   0.,   0.,  23.,\n",
       "          0.,   0.,   0.,  20.,   0.,   0.,   0.,   0.,  26.,   0.,   0.,\n",
       "          0.,  17.,   0.,   0.,   0.,  19.,   0.,   0.,   0.,  17.,   0.,\n",
       "          0.,   0.,  25.,   0.,   0.,   0.,  15.,   0.,   0.,   0.,  18.,\n",
       "          0.,   0.,   0.,  19.,   0.,   0.,   0.,  23.,   0.,   0.,   0.,\n",
       "         15.,   0.,   0.,   0.,  32.,   0.,   0.,   0.,  23.,   0.,   0.,\n",
       "          0.,  17.]),\n",
       " array([  0.   ,   0.245,   0.49 ,   0.735,   0.98 ,   1.225,   1.47 ,\n",
       "          1.715,   1.96 ,   2.205,   2.45 ,   2.695,   2.94 ,   3.185,\n",
       "          3.43 ,   3.675,   3.92 ,   4.165,   4.41 ,   4.655,   4.9  ,\n",
       "          5.145,   5.39 ,   5.635,   5.88 ,   6.125,   6.37 ,   6.615,\n",
       "          6.86 ,   7.105,   7.35 ,   7.595,   7.84 ,   8.085,   8.33 ,\n",
       "          8.575,   8.82 ,   9.065,   9.31 ,   9.555,   9.8  ,  10.045,\n",
       "         10.29 ,  10.535,  10.78 ,  11.025,  11.27 ,  11.515,  11.76 ,\n",
       "         12.005,  12.25 ,  12.495,  12.74 ,  12.985,  13.23 ,  13.475,\n",
       "         13.72 ,  13.965,  14.21 ,  14.455,  14.7  ,  14.945,  15.19 ,\n",
       "         15.435,  15.68 ,  15.925,  16.17 ,  16.415,  16.66 ,  16.905,\n",
       "         17.15 ,  17.395,  17.64 ,  17.885,  18.13 ,  18.375,  18.62 ,\n",
       "         18.865,  19.11 ,  19.355,  19.6  ,  19.845,  20.09 ,  20.335,\n",
       "         20.58 ,  20.825,  21.07 ,  21.315,  21.56 ,  21.805,  22.05 ,\n",
       "         22.295,  22.54 ,  22.785,  23.03 ,  23.275,  23.52 ,  23.765,\n",
       "         24.01 ,  24.255,  24.5  ,  24.745,  24.99 ,  25.235,  25.48 ,\n",
       "         25.725,  25.97 ,  26.215,  26.46 ,  26.705,  26.95 ,  27.195,\n",
       "         27.44 ,  27.685,  27.93 ,  28.175,  28.42 ,  28.665,  28.91 ,\n",
       "         29.155,  29.4  ,  29.645,  29.89 ,  30.135,  30.38 ,  30.625,\n",
       "         30.87 ,  31.115,  31.36 ,  31.605,  31.85 ,  32.095,  32.34 ,\n",
       "         32.585,  32.83 ,  33.075,  33.32 ,  33.565,  33.81 ,  34.055,\n",
       "         34.3  ,  34.545,  34.79 ,  35.035,  35.28 ,  35.525,  35.77 ,\n",
       "         36.015,  36.26 ,  36.505,  36.75 ,  36.995,  37.24 ,  37.485,\n",
       "         37.73 ,  37.975,  38.22 ,  38.465,  38.71 ,  38.955,  39.2  ,\n",
       "         39.445,  39.69 ,  39.935,  40.18 ,  40.425,  40.67 ,  40.915,\n",
       "         41.16 ,  41.405,  41.65 ,  41.895,  42.14 ,  42.385,  42.63 ,\n",
       "         42.875,  43.12 ,  43.365,  43.61 ,  43.855,  44.1  ,  44.345,\n",
       "         44.59 ,  44.835,  45.08 ,  45.325,  45.57 ,  45.815,  46.06 ,\n",
       "         46.305,  46.55 ,  46.795,  47.04 ,  47.285,  47.53 ,  47.775,\n",
       "         48.02 ,  48.265,  48.51 ,  48.755,  49.   ]),\n",
       " <a list of 200 Patch objects>)"
      ]
     },
     "execution_count": 56,
     "metadata": {},
     "output_type": "execute_result"
    },
    {
     "data": {
      "image/png": "[encoded data removed]",
      "text/plain": [
       "<matplotlib.figure.Figure at 0x114d5b990>"
      ]
     },
     "metadata": {},
     "output_type": "display_data"
    }
   ],
   "source": [
    "plt.hist(t,bins = 200)"
   ]
  },
  {
   "cell_type": "markdown",
   "metadata": {},
   "source": [
    "histograms and PMFs are most often plotted as bar charts. The plt function to draw a bar chart is bar. "
   ]
  },
  {
   "cell_type": "code",
   "execution_count": 68,
   "metadata": {
    "collapsed": false
   },
   "outputs": [],
   "source": [
    "vals = hist.keys()\n",
    "freqs = hist.values()\n"
   ]
  },
  {
   "cell_type": "code",
   "execution_count": 70,
   "metadata": {
    "collapsed": false
   },
   "outputs": [
    {
     "data": {
      "text/plain": [
       "<Container object of 50 artists>"
      ]
     },
     "execution_count": 70,
     "metadata": {},
     "output_type": "execute_result"
    },
    {
     "data": {
      "image/png": "[encoded data removed]",
      "text/plain": [
       "<matplotlib.figure.Figure at 0x11ac752d0>"
      ]
     },
     "metadata": {},
     "output_type": "display_data"
    }
   ],
   "source": [
    "plt.bar(vals,freqs)"
   ]
  },
  {
   "cell_type": "markdown",
   "metadata": {},
   "source": [
    "## Cumulative Distribution function (CDF)"
   ]
  },
  {
   "cell_type": "markdown",
   "metadata": {},
   "source": [
    "Cumulative Distribution Function (CDF) Gives the probability that a random variable is less than or equal to x."
   ]
  },
  {
   "cell_type": "code",
   "execution_count": 107,
   "metadata": {
    "collapsed": true
   },
   "outputs": [],
   "source": [
    "#Percentile function, given numbers find the percentile\n",
    "def percentile(numbers, yournumber):\n",
    "    count = 0\n",
    "    for i in numbers:\n",
    "        if i < yournumber:\n",
    "            count = count+1\n",
    "    \n",
    "    percentile = 1.0*count/len(numbers)\n",
    "    return percentile\n",
    "            "
   ]
  },
  {
   "cell_type": "code",
   "execution_count": 108,
   "metadata": {
    "collapsed": false
   },
   "outputs": [
    {
     "data": {
      "text/plain": [
       "0.796"
      ]
     },
     "execution_count": 108,
     "metadata": {},
     "output_type": "execute_result"
    }
   ],
   "source": [
    "percentile(t, 40)"
   ]
  },
  {
   "cell_type": "code",
   "execution_count": null,
   "metadata": {
    "collapsed": true
   },
   "outputs": [],
   "source": [
    "# how about given the percentile, find the numbers\n",
    "# My thought is to map numbers with cumulative distribution, return a dictionary\n",
    "\n"
   ]
  },
  {
   "cell_type": "code",
   "execution_count": 128,
   "metadata": {
    "collapsed": false
   },
   "outputs": [],
   "source": [
    "values, base = np.histogram(t, bins=50, density = 1)"
   ]
  },
  {
   "cell_type": "code",
   "execution_count": 129,
   "metadata": {
    "collapsed": false
   },
   "outputs": [
    {
     "data": {
      "text/plain": [
       "array([ 0.01734694,  0.02346939,  0.0255102 ,  0.01836735,  0.01938776,\n",
       "        0.02142857,  0.02959184,  0.02040816,  0.02244898,  0.0122449 ,\n",
       "        0.01326531,  0.0244898 ,  0.02244898,  0.01632653,  0.01836735,\n",
       "        0.01938776,  0.02040816,  0.02346939,  0.02959184,  0.02959184,\n",
       "        0.01122449,  0.01632653,  0.01530612,  0.02040816,  0.02244898,\n",
       "        0.01326531,  0.0255102 ,  0.01632653,  0.01734694,  0.01836735,\n",
       "        0.0244898 ,  0.01938776,  0.01632653,  0.01938776,  0.02142857,\n",
       "        0.02346939,  0.02040816,  0.02653061,  0.01734694,  0.01938776,\n",
       "        0.01734694,  0.0255102 ,  0.01530612,  0.01836735,  0.01938776,\n",
       "        0.02346939,  0.01530612,  0.03265306,  0.02346939,  0.01734694])"
      ]
     },
     "execution_count": 129,
     "metadata": {},
     "output_type": "execute_result"
    }
   ],
   "source": [
    "values"
   ]
  },
  {
   "cell_type": "code",
   "execution_count": 130,
   "metadata": {
    "collapsed": false
   },
   "outputs": [
    {
     "data": {
      "text/plain": [
       "array([  0.  ,   0.98,   1.96,   2.94,   3.92,   4.9 ,   5.88,   6.86,\n",
       "         7.84,   8.82,   9.8 ,  10.78,  11.76,  12.74,  13.72,  14.7 ,\n",
       "        15.68,  16.66,  17.64,  18.62,  19.6 ,  20.58,  21.56,  22.54,\n",
       "        23.52,  24.5 ,  25.48,  26.46,  27.44,  28.42,  29.4 ,  30.38,\n",
       "        31.36,  32.34,  33.32,  34.3 ,  35.28,  36.26,  37.24,  38.22,\n",
       "        39.2 ,  40.18,  41.16,  42.14,  43.12,  44.1 ,  45.08,  46.06,\n",
       "        47.04,  48.02,  49.  ])"
      ]
     },
     "execution_count": 130,
     "metadata": {},
     "output_type": "execute_result"
    }
   ],
   "source": [
    "base"
   ]
  },
  {
   "cell_type": "code",
   "execution_count": 131,
   "metadata": {
    "collapsed": false
   },
   "outputs": [],
   "source": [
    "cum = np.cumsum(values)\n",
    "cum_f = 1.0*cum/max(cum)\n",
    "# create dictionary\n",
    "cum_dic = dict(zip(base, cum_f))"
   ]
  },
  {
   "cell_type": "code",
   "execution_count": 102,
   "metadata": {
    "collapsed": false
   },
   "outputs": [
    {
     "data": {
      "image/png": "[encoded data removed]",
      "text/plain": [
       "<matplotlib.figure.Figure at 0x11ae20950>"
      ]
     },
     "metadata": {},
     "output_type": "display_data"
    }
   ],
   "source": [
    "# some fake data\n",
    "data = np.random.randn(1000)\n",
    "# evaluate the histogram\n",
    "values, base = np.histogram(data, bins=40)\n",
    "#evaluate the cumulative\n",
    "cumulative = np.cumsum(values)\n",
    "# plot the cumulative function\n",
    "plt.plot(base[:-1], cumulative, c='blue')\n",
    "#plot the survival function\n",
    "plt.plot(base[:-1], len(data)-cumulative, c='green')\n",
    "\n",
    "plt.show()"
   ]
  },
  {
   "cell_type": "code",
   "execution_count": null,
   "metadata": {
    "collapsed": true
   },
   "outputs": [],
   "source": []
  }
 ],
 "metadata": {
  "kernelspec": {
   "display_name": "Python 2",
   "language": "python",
   "name": "python2"
  },
  "language_info": {
   "codemirror_mode": {
    "name": "ipython",
    "version": 2
   },
   "file_extension": ".py",
   "mimetype": "text/x-python",
   "name": "python",
   "nbconvert_exporter": "python",
   "pygments_lexer": "ipython2",
   "version": "2.7.11"
  }
 },
 "nbformat": 4,
 "nbformat_minor": 0
}
