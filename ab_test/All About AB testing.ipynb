{
 "cells": [
  {
   "cell_type": "code",
   "execution_count": 1,
   "metadata": {
    "collapsed": true
   },
   "outputs": [],
   "source": [
    "## Sampling with replacement"
   ]
  },
  {
   "cell_type": "code",
   "execution_count": 4,
   "metadata": {
    "collapsed": false
   },
   "outputs": [],
   "source": [
    "# 1. magic for inline plot\n",
    "# 2. magic to print version\n",
    "# 3. magic so that the notebook will reload external python modules\n",
    "# 4. a ipython magic to enable retina (high resolution) plots\n",
    "# https://gist.github.com/minrk/3301035\n",
    "%matplotlib inline\n",
    "\n",
    "import numpy as np\n",
    "import pandas as pd\n",
    "# seaborn as sns\n",
    "import scipy.stats as stats\n",
    "import matplotlib.pyplot as plt\n",
    "from statsmodels.stats.proportion import proportions_ztest\n",
    "from statsmodels.stats.proportion import proportions_chisquare"
   ]
  },
  {
   "cell_type": "code",
   "execution_count": null,
   "metadata": {
    "collapsed": true
   },
   "outputs": [],
   "source": [
    "# setup the look and feel of the notebook\n",
    "plt.rcParams['figure.figsize'] = 8, 6\n",
    "sns.set_context('notebook', font_scale = 1.5, rc = {'lines.linewidth': 2.5})\n",
    "sns.set_style('whitegrid')\n",
    "sns.set_palette('deep')\n",
    "\n",
    "# Create a couple of colors to use throughout the notebook\n",
    "red = sns.xkcd_rgb['vermillion']\n",
    "blue = sns.xkcd_rgb['dark sky blue']"
   ]
  },
  {
   "cell_type": "code",
   "execution_count": null,
   "metadata": {
    "collapsed": true
   },
   "outputs": [],
   "source": [
    "Ideally, the reader should already understand or vaguely remember the statistic concepts such as z-score, p-value, hypothesis test, confidence interval. The warming-up section is a quick review of the concept, feel free to skip it if you're already acquainted with the concept."
   ]
  },
  {
   "cell_type": "markdown",
   "metadata": {},
   "source": [
    "# Warming Up"
   ]
  },
  {
   "cell_type": "markdown",
   "metadata": {},
   "source": [
    "Statistical inference is the process of analyzing sample data to gain insight into the population from which the data was collected and to investigate differences between data samples. In data analysis, we are often interested in the characteristics of some large population, but collecting data on the entire population may be infeasible. For example, leading up to U.S. presidential elections it could be very useful to know the political leanings of every single eligible voter, but surveying every voter is not feasible. Instead, we could poll some subset of the population, such as a thousand registered voters, and use that data to make inferences about the population as a whole."
   ]
  },
  {
   "cell_type": "markdown",
   "metadata": {},
   "source": [
    "## Point Estimate"
   ]
  },
  {
   "cell_type": "markdown",
   "metadata": {},
   "source": [
    "Point estimates are estimates of population parameters based on sample data. For instance, if we wanted to know the average age of registered voters in the U.S., we could take a survey of registered voters and then use the average age of the respondents as a point estimate of the average age of the population as a whole. The average of a sample is known as the sample mean. The sample mean is usually not exactly the same as the population mean. This difference can be caused by many factors including poor survey design, biased sampling methods and the randomness inherent to drawing a sample from a population. Let's investigate point estimates by generating a population of random age data and then drawing a sample from it to estimate the mean:"
   ]
  },
  {
   "cell_type": "code",
   "execution_count": 5,
   "metadata": {
    "collapsed": false
   },
   "outputs": [
    {
     "name": "stdout",
     "output_type": "stream",
     "text": [
      "('population mean:', 43.011071999999999)\n"
     ]
    }
   ],
   "source": [
    "population_ages1 = stats.poisson.rvs(loc = 18, mu = 35, size = 150000)\n",
    "population_ages2 = stats.poisson.rvs(loc = 18, mu = 10, size = 100000)\n",
    "population_ages = np.concatenate((population_ages1, population_ages2))\n",
    "print('population mean:', np.mean(population_ages))"
   ]
  },
  {
   "cell_type": "code",
   "execution_count": 7,
   "metadata": {
    "collapsed": false
   },
   "outputs": [
    {
     "name": "stdout",
     "output_type": "stream",
     "text": [
      "('sample mean:', 42.670000000000002)\n"
     ]
    }
   ],
   "source": [
    "np.random.seed(6)\n",
    "sample_ages = np.random.choice(population_ages, size = 500)\n",
    "print('sample mean:', np.mean(sample_ages))"
   ]
  },
  {
   "cell_type": "markdown",
   "metadata": {},
   "source": [
    "np.random.random(population_ages)"
   ]
  },
  {
   "cell_type": "markdown",
   "metadata": {},
   "source": [
    "The experiment tells us that we'd expect the distribution of the population to be a similar shape to that of the sample, so we can assume that the mean of the sample and the population should have the same value. Note that we can't say that they exactly match, but it's the best estimate we can make.\n",
    "The population mean is often denoted as $\\mu$, the estimated population mean as $\\hat{\\mu}$, mean of the sample $\\bar{x}$. So here we're basically saying $\\hat{\\mu} = \\bar{x}$, where we're using the sample mean to estimate the mean of the population and usually the larger the size of our sample, the more accurate our point estimator for the estimated population mean is going to be.\n"
   ]
  },
  {
   "cell_type": "markdown",
   "metadata": {},
   "source": [
    "## Sampling Distributions and The Central Limit Theorem"
   ]
  },
  {
   "cell_type": "markdown",
   "metadata": {},
   "source": [
    "Many statistical procedures assume that data follows a normal distribution, because the normal distribution has nice properties like symmetricity and having the majority of the data clustered within a few standard deviations of the mean. Unfortunately, real world data is often not normally distributed and the distribution of a sample tends to mirror the distribution of the population. This means a sample taken from a population with a skewed distribution will also tend to be skewed."
   ]
  },
  {
   "cell_type": "code",
   "execution_count": 13,
   "metadata": {
    "collapsed": false
   },
   "outputs": [
    {
     "data": {
      "image/png": "iVBORw0KGgoAAAANSUhEUgAAAtYAAAF6CAYAAAA9Jh/OAAAABHNCSVQICAgIfAhkiAAAAAlwSFlz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\nJEkd+P8BqK0g51nEnnQAAAAASUVORK5CYII=\n",
      "text/plain": [
       "<matplotlib.figure.Figure at 0x10aefeb10>"
      ]
     },
     "metadata": {},
     "output_type": "display_data"
    }
   ],
   "source": [
    "fig = plt.figure(figsize = (12, 6))\n",
    "plt.subplot(1, 2, 1)\n",
    "plt.hist(population_ages)\n",
    "plt.title('Population')\n",
    "plt.subplot(1, 2, 2)\n",
    "plt.hist(sample_ages)\n",
    "plt.title('Sample')\n",
    "plt.show()"
   ]
  },
  {
   "cell_type": "markdown",
   "metadata": {},
   "source": [
    "The plot reveals the data is clearly not normal: instead of one symmetric bell curve, it has as bimodal distribution with two high density peaks. Because of this, the sample we drew from this population should have roughly the same shape and skew.\n",
    "The sample has roughly the same shape as the underlying population. This suggests that we can't apply techniques that assume a normal distribution to this data set, since it is not normal. This leads to our next topic, the central limit theorem.\n",
    "The central limit theorem is one of the most important results of probability theory and serves as the foundation of many methods of statistical analysis. At a high level, the theorem states the distribution of many sample means, known as a sampling distribution, will be normally distributed. This rule holds even if the underlying distribution itself is not normally distributed. As a result we can treat the sample mean as if it were drawn normal distribution. To illustrate, let's create a sampling distribution by taking 200 samples from our population and then making 200 point estimates of the mean:"
   ]
  },
  {
   "cell_type": "code",
   "execution_count": 14,
   "metadata": {
    "collapsed": false
   },
   "outputs": [
    {
     "data": {
      "image/png": "iVBORw0KGgoAAAANSUhEUgAAAXkAAAEACAYAAABWLgY0AAAABHNCSVQICAgIfAhkiAAAAAlwSFlz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\n",
      "text/plain": [
       "<matplotlib.figure.Figure at 0x11577af90>"
      ]
     },
     "metadata": {},
     "output_type": "display_data"
    }
   ],
   "source": [
    "np.random.seed(10)\n",
    "samples = 200\n",
    "point_estimates = [np.random.choice(population_ages, size = 500).mean()\n",
    "                   for _ in range(samples)]\n",
    "\n",
    "plt.hist(point_estimates)\n",
    "plt.show()"
   ]
  },
  {
   "cell_type": "code",
   "execution_count": 19,
   "metadata": {
    "collapsed": false
   },
  
       "        26, 52, 51, 51, 45, 54, 48, 61, 30, 52, 54, 57, 31, 54, 30, 46, 26,\n",
       "        26, 28, 40, 53, 27, 53, 31, 27, 27, 56, 54, 32, 58, 54, 48, 25, 28,\n",
       "        47, 23, 55, 45, 32, 32, 43, 26, 30, 50, 51, 27, 65, 26, 57, 29, 55,\n",
       "        52, 34, 54, 46, 52, 53, 53, 28, 31, 32, 63, 25, 48, 50, 30, 53, 54,\n",
       "        50, 55, 54, 29, 54, 49, 33, 49, 30, 29, 47, 54, 28, 55, 48, 52, 59,\n",
       "        26, 56, 29, 49, 31, 58, 59, 43, 46, 54, 63, 58, 51, 27, 49, 55, 32,\n",
       "        29, 26, 26, 23, 24, 28, 22, 26, 30, 50, 57, 54, 64, 28, 31, 50, 65,\n",
       "        55, 28, 26, 30, 28, 34, 52, 57, 26, 50, 52, 26, 62, 62, 52, 26, 64,\n",
       "        53, 64, 24, 54, 60, 29, 26, 48, 53, 42, 58, 62, 63, 49, 43, 25, 60,\n",
       "        49, 50, 53, 53, 31, 46, 58, 44, 25, 65, 22, 53, 28, 40, 50, 55, 29,\n",
       "        24, 50, 28, 48, 52, 52, 53, 51, 54, 29, 69, 57, 47, 31, 56, 48, 27,\n",
       "        28, 45, 48, 27, 31, 53, 53, 27, 49, 49, 27, 24, 24, 24, 61, 77, 49,\n",
       "        24, 24, 25, 64, 60, 43, 25, 25, 45, 52, 23, 31, 59, 24, 31, 55, 20,\n",
       "        30, 58, 28, 59, 49, 49, 23, 24, 29, 48, 31, 28, 27, 20, 30, 27, 29,\n",
       "        56, 70, 40, 49, 45, 51, 51, 52, 52, 65, 47, 56, 24, 30, 52, 52, 52,\n",
       "        42, 29, 29, 51, 26, 47, 26, 45, 33, 24, 50, 55, 48, 30, 47, 25, 57,\n",
       "        48, 59, 22, 56, 27, 26, 56, 60, 27, 56, 49, 53, 27, 51, 30, 59, 57,\n",
       "        28, 22, 28, 48, 46, 26, 55, 34, 55, 31, 50, 31, 47, 57, 61, 56, 52,\n",
       "        32, 54, 31, 23, 26, 45, 54, 51, 27, 54, 31, 59, 58, 54, 49, 29, 51,\n",
       "        55, 30, 63, 61, 31, 24, 45, 28, 30, 51, 51, 24, 28, 29, 24, 28, 26,\n",
       "        38, 30, 30, 30, 29, 46, 53, 54, 49, 45, 28, 51, 56, 39, 29, 56, 53,\n",
       "        57, 25, 44, 27, 52, 56, 56, 23, 49, 59, 35, 38, 25, 54, 54, 29, 52,\n",
       "        56, 48, 55, 56, 64, 28, 27, 58, 25, 45, 65, 24, 60, 52, 39, 47, 28,\n",
       "        27, 62, 49, 24, 30, 65, 52, 27, 46, 28, 61, 60, 45, 24, 63, 31, 52,\n",
      
       
     },
     "execution_count": 19,
     "metadata": {},
     "output_type": "execute_result"
    }
   ],
   "source": [
    "[np.random.choice(population_ages, size = 500) for _ in range(samples)]"
   ]
  },
  {
   "cell_type": "markdown",
   "metadata": {},
   "source": [
    "The sampling distribution appears to be roughly normal, despite the bimodal population distribution that the samples were drawn from. In addition, the mean of the sampling distribution approaches the true population mean:"
   ]
  },
  {
   "cell_type": "markdown",
   "metadata": {},
   "source": [
    "To hit the notion home, Central Limit Theorem states that that if we collect \"a large number\" of different samples mean from the population, the sampling distribution, the distribution of the samples mean you collected, will approximately take the shape of a normal distribution around the population mean no matter what the orginal population distribution is.\n",
    "Knowing that the sampling distribution will take the shape of a normal distribution is what makes the theorem so powerful, as it is the foundation of concepts such as confidence intervals and margins of error in frequentist statistics."
   ]
  },
  {
   "cell_type": "markdown",
   "metadata": {},
   "source": [
    "## Confidence Interval"
   ]
  },
  {
   "cell_type": "markdown",
   "metadata": {},
   "source": [
    "A point estimate can give us a rough idea of a population parameter like the mean, but estimates are prone to error. A confidence interval is a range of values above and below a point estimate that captures the true population parameter at some predetermined confidence level. For example, if you want to have a 95% chance of capturing the true population parameter with a point estimate and a corresponding confidence interval, we'd set our confidence level to 95%. Higher confidence levels result in a wider confidence intervals.\n",
    "The interval is computed using the formula:\n",
    "$$\\text{point estimate} \\pm z * SE$$\n",
    "Where\n",
    "$z$ is called the critical value and it corresponds to the confidence level that we chose. Critical value is the number of standard deviations we'd have to go from the mean of the normal distribution to capture the proportion of the data associated with the desired confidence level. For instance, we know that roughly 95% of the data in a normal distribution lies within 2 standard deviations from the mean, so we could use 2 as the z-critical value for a 95% confidence interval (although it is more exact to get z-critical values with stats.norm.ppf())\n",
    "$SE$ represents the standard error. Generally the standard error for a point estimate is estimated from the data and computed using a formula. For example, the standard error for the sample mean is $\\frac{s}{ \\sqrt{n} }$, where $s$ is the standard deviation and $n$ is the number of samples.\n",
    "The value $z * SE$ is called the margin of error.\n",
    "Note that this constructing confidence intervals framework holds true for doing can be easily adapted for any estimator that has a nearly normal sampling distribution. e.g. sample mean, two sample mean, sample proportion and two sample proportion (we'll later see). All we have to do this is change the way that we're calculating the standard error."
   ]
  },
  {
   "cell_type": "code",
   "execution_count": 23,
   "metadata": {
    "collapsed": false
   },
   "outputs": [
    {
     "data": {
      "text/plain": [
       "1.6448536269514722"
      ]
     },
     "execution_count": 23,
     "metadata": {},
     "output_type": "execute_result"
    }
   ],
   "source": [
    "from scipy.stats import norm\n",
    "norm.ppf(0.95)"
   ]
  },
  {
   "cell_type": "code",
   "execution_count": 25,
   "metadata": {
    "collapsed": false
   },
   "outputs": [
    {
     "data": {
      "text/plain": [
       "0.95352134213627993"
      ]
     },
     "execution_count": 25,
     "metadata": {},
     "output_type": "execute_result"
    }
   ],
   "source": [
    "norm.cdf(1.68)"
   ]
  },
  {
   "cell_type": "code",
   "execution_count": 30,
   "metadata": {
    "collapsed": false
   },
   "outputs": [
    {
     "data": {
      "text/plain": [
       "31.622776601683793"
      ]
     },
     "execution_count": 30,
     "metadata": {},
     "output_type": "execute_result"
    }
   ],
   "source": [
    "np.sqrt(1000)"
   ]
  },
  {
   "cell_type": "code",
   "execution_count": 33,
   "metadata": {
    "collapsed": false
   },
   "outputs": [
    {
     "name": "stdout",
     "output_type": "stream",
     "text": [
      "('z-critical value:', 1.959963984540054)\n",
      "('point esimate:', 42.191000000000003)\n",
      "('Confidence interval:', (41.370970000233839, 43.011029999766166))\n"
     ]
    }
   ],
   "source": [
    "np.random.seed(10)\n",
    "sample_size = 1000\n",
    "sample = np.random.choice(population_ages, size = sample_size)\n",
    "sample_mean = sample.mean()\n",
    "\n",
    "confidence = 0.95\n",
    "z_critical = stats.norm.ppf(q = confidence + (1 - confidence) / 2)\n",
    "print('z-critical value:', z_critical)                     \n",
    "\n",
    "pop_stdev = population_ages.std()\n",
    "margin_of_error = z_critical * (pop_stdev / np.sqrt(sample_size))\n",
    "confident = sample_mean - margin_of_error, sample_mean + margin_of_error\n",
    "print('point esimate:', sample_mean)\n",
    "print('Confidence interval:', confident)"
   ]
  },
  {
   "cell_type": "markdown",
   "metadata": {},
   "source": [
    "Notice that the confidence interval we calculated captures the true population mean of 43.0023. Let's create several confidence intervals and plot them to get a better sense of what it means to \"capture\" the true mean:"
   ]
  },
  {
   "cell_type": "code",
   "execution_count": 39,
   "metadata": {
    "collapsed": false
   },
   "outputs": [
    {
     "name": "stdout",
     "output_type": "stream",
     "text": [
      "('z-critical value:', 2.5758293035489004)\n",
      "('point esimate:', 42.191000000000003)\n",
      "('Confidence interval:', (41.113297899426676, 43.268702100573329))\n"
     ]
    }
   ],
   "source": [
    "np.random.seed(10)\n",
    "sample_size = 1000\n",
    "sample = np.random.choice(population_ages, size = sample_size)\n",
    "sample_mean = sample.mean()\n",
    "\n",
    "confidence = 0.99\n",
    "z_critical = stats.norm.ppf(q = confidence + (1 - confidence) / 2)\n",
    "print('z-critical value:', z_critical)                     \n",
    "\n",
    "pop_stdev = population_ages.std()\n",
    "margin_of_error = z_critical * (pop_stdev / np.sqrt(sample_size))\n",
    "confident = sample_mean - margin_of_error, sample_mean + margin_of_error\n",
    "print('point esimate:', sample_mean)\n",
    "print('Confidence interval:', confident)"
   ]
  },
  {
   "cell_type": "code",
   "execution_count": 41,
   "metadata": {
    "collapsed": false
   },
   "outputs": [
    {
     "data": {
      "image/png": "iVBORw0KGgoAAAANSUhEUgAAAl0AAAHfCAYAAABqEm1lAAAABHNCSVQICAgIfAhkiAAAAAlwSFlz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\n",
      "text/plain": [
       "<matplotlib.figure.Figure at 0x118a3bb50>"
      ]
     },
     "metadata": {},
     "output_type": "display_data"
    }
   ],
   "source": [
    "np.random.seed(12)\n",
    "confidence = 0.95\n",
    "sample_size = 1000\n",
    "\n",
    "intervals = []\n",
    "sample_means = []\n",
    "for sample in range(25):\n",
    "    sample = np.random.choice(population_ages, size = sample_size)\n",
    "    sample_mean = sample.mean()\n",
    "    sample_means.append(sample_mean)\n",
    "\n",
    "    z_critical = stats.norm.ppf(q = confidence + (1 - confidence) / 2)                    \n",
    "    pop_stdev = population_ages.std()\n",
    "    margin_of_error = z_critical * (pop_stdev / np.sqrt(sample_size))\n",
    "    confint = sample_mean - margin_of_error, sample_mean + margin_of_error \n",
    "    intervals.append(confint)\n",
    "    \n",
    "\n",
    "plt.figure(figsize = (10, 8))\n",
    "plt.errorbar(x = np.arange(0.1, 25, 1), y = sample_means, \n",
    "             yerr = [(top - bot) / 2 for top, bot in intervals], fmt = 'o')\n",
    "\n",
    "plt.hlines(xmin = 0, xmax = 25,\n",
    "           y = population_ages.mean(), \n",
    "           linewidth = 2.0, color = 'red')\n",
    "plt.show()\n"
   ]
  },
  {
   "cell_type": "markdown",
   "metadata": {},
   "source": [
    "Notice that in the plot above, all but one of the 95% confidence intervals overlap the red line marking the true mean. This is to be expected: since a 95% confidence interval captures the true mean 95% of the time, we'd expect our interval to miss the true mean 5% of the time.\n",
    "More formally, the definition of a 95% confidence interval means that 95% of confidence intervals, created based on random samples of the same size from the same population will contain the true population parameter."
   ]
  },
  {
   "cell_type": "markdown",
   "metadata": {},
   "source": [
    "## Hypothesis Testing"
   ]
  },
  {
   "cell_type": "markdown",
   "metadata": {},
   "source": [
    "Lets starts off with a motivating example that asks the question \"If you toss a coin 30 times and see 22 heads, is it a fair coin?\"\n",
    "We all know that a fair coin should come up heads roughly 15 out of 30 tosses, give or take, so it does seem unlikely to see so many heads. However, the skeptic might argue that even a fair coin could show 22 heads in 30 tosses from time-to-time. This could just be a chance event. So, the question would then be \"how can you determine if we're tossing a fair coin?\"\n",
    "Let's start by first considering the probability of a single coin flip coming up heads and work our way up to 22 out of 30.\n",
    "$$\\begin{align}\n",
    "P(H) = \\frac{1}{2}\n",
    "\\end{align}$$\n",
    "As our equation shows, the probability of a single coin toss turning up heads is exactly 50% since there is an equal chance of either heads or tails turning up. Taking this one step further, to determine the probability of getting 2 heads in a row with 2 coin tosses, we would need to multiply the probability of getting heads by the probability of getting heads again since the two events are independent of one another.\n",
    "$$\\begin{align}\n",
    "P(HH) = P(H) \\cdot P(H) = P(H)^2 = \\left(\\frac{1}{2}\\right)^2 = \\frac{1}{4}\n",
    "\\end{align}$$\n",
    "Let's now take a look at a slightly different scenario and calculate the probability of getting 2 heads and 1 tails with 3 coin tosses. To get the actual probability of tossing 2 heads and 1 tails we will have to add the probabilities for all of the possible permutations, of which there are exactly three: HHT, HTH, and THH.\n",
    "$$\\begin{align}\n",
    "P(2H,1T) = P(HHT) + P(HTH) + P(THH) = \\frac{1}{8} + \\frac{1}{8} + \\frac{1}{8} = \\frac{3}{8}\n",
    "\\end{align}$$\n",
    "Another way we could do this is to use the binomial distribution:\n",
    "$$\\begin{align}\n",
    "P(N_H,N_T) = \\binom{n}{k} p^{k} \\left( 1 - p \\right)^{n - k}\n",
    "\\end{align}$$\n",
    "Where\n",
    "$n$ is number of coin flips\n",
    "$p$ is the probability of getting heads on each flip\n",
    "The $\\binom{n}{k}$ tells us how many ways are there to get $k$ heads our of $n$ total number of coin flips?\" and the $p^k(1-p)^{n-k}$ answers the question \"how likely is any given $k$ heads and $n-k$ tails?\", multiply them together and we get the probability of getting exactly $k$ heads.\n",
    "Now that we understand the classic method, let's use it to test whether we are actually tossing a fair coin."
   ]
  },
  {
   "cell_type": "code",
   "execution_count": 44,
   "metadata": {
    "collapsed": false
   },
   "outputs": [
    {
     "data": {
      "text/plain": [
       "array([  2.79396772e-08,   4.05125320e-07,   3.78116965e-06,\n",
       "         2.55228952e-05,   1.32719055e-04,   5.52996062e-04,\n",
       "         1.89598650e-03,   5.45096118e-03,   1.33245718e-02,\n",
       "         2.79816007e-02,   5.08756377e-02,   8.05530930e-02,\n",
       "         1.11535052e-01,   1.35435420e-01,   1.44464448e-01,\n",
       "         1.35435420e-01,   1.11535052e-01,   8.05530930e-02,\n",
       "         5.08756377e-02,   2.79816007e-02,   1.33245718e-02,\n",
       "         5.45096118e-03,   1.89598650e-03,   5.52996062e-04,\n",
       "         1.32719055e-04,   2.55228952e-05,   3.78116965e-06,\n",
       "         4.05125320e-07,   2.79396772e-08,   9.31322575e-10])"
      ]
     },
     "execution_count": 44,
     "metadata": {},
     "output_type": "execute_result"
    }
   ],
   "source": [
    "k_range = range(1, 31)  # number of heads appearing\n",
    "n = 30  # number of k_range tossing the coin\n",
    "p = 0.5  # probability of coin appearing up as head\n",
    "\n",
    "prob = stats.binom(n = n, p = p).pmf(k = k_range)\n",
    "prob\n"
   ]
  },
  {
   "cell_type": "code",
   "execution_count": 48,
   "metadata": {
    "collapsed": false
   },
   "outputs": [
    {
     "data": {
      "image/png": "iVBORw0KGgoAAAANSUhEUgAAAYwAAAEPCAYAAABRHfM8AAAABHNCSVQICAgIfAhkiAAAAAlwSFlz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\nDDMzS+KEYWZmSf4/k4rbRajuRSUAAAAASUVORK5CYII=\n",
      "text/plain": [
       "<matplotlib.figure.Figure at 0x11a2933d0>"
      ]
     },
     "metadata": {},
     "output_type": "display_data"
    }
   ],
   "source": [
    "# Calculate the probability for every possible outcome\n",
    "# of tossing a fair coin 30 k_range\n",
    "\n",
    "k_range = range(1, 31)  # number of heads appearing\n",
    "n = 30  # number of k_range tossing the coin\n",
    "p = 0.5  # probability of coin appearing up as head\n",
    "\n",
    "prob = stats.binom(n = n, p = p).pmf(k = k_range)\n",
    "\n",
    "# Plot the probability distribution using the probabilities list \n",
    "# we created above.\n",
    "plt.step(k_range, prob, where = 'mid', color = 'blue')\n",
    "plt.xlabel('Number of heads')\n",
    "plt.ylabel('Probability')\n",
    "plt.plot((22, 22), (0, 0.1599), color = 'red')\n",
    "plt.annotate('0.8%', xytext = (25, 0.08), xy = (22, 0.08), \n",
    "             va = 'center', color = 'red', size = 'large',\n",
    "             arrowprops = {'arrowstyle': '<|-', 'lw': 2,\n",
    "                           'color': 'red', 'shrinkA': 10})\n",
    "plt.show()\n"
   ]
  },
  {
   "cell_type": "markdown",
   "metadata": {},
   "source": [
    "The visualization above shows the probability distribution for flipping a fair coin 30 times. Using this visualization we can now determine the probability of getting, say for example, 12 heads in 30 flips, which looks to be about 8%. Notice that we've labeled our example of 22 heads as 0.8%. If we look at the probability of flipping exactly 22 heads, it looks likes to be a little less than 0.8%, in fact if we calculate it using the function from above, we get 0.5%."
   ]
  },
  {
   "cell_type": "code",
   "execution_count": 54,
   "metadata": {
    "collapsed": false
   },
   "outputs": [
    {
     "name": "stdout",
     "output_type": "stream",
     "text": [
      "Probability of flipping 22 heads: 0.5%\n"
     ]
    }
   ],
   "source": [
    "prob = stats.binom(n = n, p = p).pmf(k = 22)\n",
    "print('Probability of flipping 22 heads: {:0.1f}%'.format(prob * 100))"
   ]
  },
  {
   "cell_type": "markdown",
   "metadata": {},
   "source": [
    "So, then why do we have 0.8% labeled in our probability distribution above? Well, that's because we are showing the probability of getting at least 22 heads, which is also known as the p-value.\n",
    "Let's pull back from our example and discuss formally about hypothesis testing. In standard frequentist statistic's hypothesis testing, we start with a null hypothesis that we usually call $H_0$ (pronouced as H naught), which represents our status quo. On the other hand, we also have an alternative hypothesis our $H_1$ that represents the question that we wish to answer, i.e. what we’re testing for.\n",
    "After setting up our null and alternative hypothesis, we conduct a hypothesis test under the assumption that the null hypothesis is true. If the test results suggest that the data do not provide convincing evidence for the alternative hypothesis, we stick with the null hypothesis. If they do, then we reject the null hypothesis in favor of the alternative.\n",
    "Frequentist statistic's hypothesis testing uses a p-value to weigh the strength of the evidence (what the data is telling you about the population). p-value is defined as the probability of obtaining the observed or more extreme outcome, given that the null hypothesis is true (not the probability that the alternative hypthesis is true). It is a number between 0 and 1 and interpreted in the following way:\n",
    "A small p-value (typically <= 0.05, 0.05 is a commonly used threshold, the threshold is often denoted as $\\alpha$) indicates strong evidence against the null hypothesis, so we reject the null hypothesis. This means that something interesting is going on and it’s not just noise!\n",
    "A large p-value (> 0.05) indicates weak evidence against the null hypothesis, so we fail to reject the null hypothesis. Although p-value is still in our favor, we cannot conclusively say that it was not due to random noise.\n",
    "p-values very close to the cutoff (0.05) are considered to be marginal (could go either way). If you carefully read good papers on these kind of topics, you will always see the p-values being reported so that the readers can draw their own conclusions.\n",
    "Example:\n",
    "Let's say that a pizza place claims their delivery times are 30 minutes or less on average. Now we think it's actually takes more than 30 minutes. We conduct a hypothesis test because we believe the null hypothesis, that the mean delivery time is 30 minutes maximum, is incorrect. This means that our alternative hypothesis is the mean time is greater than 30 minutes. We randomly sample some delivery times and run the data through the hypothesis test, and our p-value turns out to be 0.01, which is much less than 0.05.\n",
    "In real terms, there is a probability of 0.001 that we will mistakenly reject the pizza place's claim that their delivery time is less than or equal to 30 minutes. Since typically we are willing to reject the null hypothesis when this probability is less than 0.05, we conclude that the pizza place is wrong; their delivery times are in fact more than 30 minutes on average.\n",
    "Back with our coin toss example, the null hypothesis assumes we have a fair coin, and the way we determine if this hypothesis is true or not is by calculating how often flipping this fair coin 30 times would result in 22 or more heads. If we then take the number of times that we got 22 or more heads and divide that number by the total of all possible permutations of 30 coin tosses, we get the probability of tossing 22 or more heads with a fair coin. This probability is essentially our p-value."
   ]
  },
  {
   "cell_type": "code",
   "execution_count": 55,
   "metadata": {
    "collapsed": false
   },
   "outputs": [
    {
     "name": "stdout",
     "output_type": "stream",
     "text": [
      "P-value: 0.8%\n"
     ]
    }
   ],
   "source": [
    "def compute_pvalue(n, k, p):\n",
    "    \"\"\"Returns the p-value for binomial distribution\"\"\"\n",
    "    k_range = range(k, n + 1)\n",
    "    pvalue = stats.binom(n = n, p = p).pmf(k = k_range).sum()\n",
    "    return pvalue\n",
    "\n",
    "\n",
    "pvalue = compute_pvalue(n = 30, k = 22, p = 0.5)\n",
    "print('P-value: {:0.1f}%'.format(pvalue * 100))"
   ]
  },
  {
   "cell_type": "markdown",
   "metadata": {},
   "source": [
    "The role of p-value is used to check the validity of the null hypothesis. The way this is done is by agreeing upon some predetermined upper limit for our p-value, below which we will assume that our null hypothesis is false.\n",
    "In other words, if our null hypothesis were true, and 22 heads in 30 flips could happen often enough by chance, we would expect to see it happen more often than the given threshold percentage of times. So, for example, if we chose 10% as our p-value threshold, then we would expect to see 22 or more heads show up at least 10% of the time to determine that this is a chance occurrence and not due to some bias in the coin. Historically, the generally accepted threshold has been 5%, and so if our p-value is less than 5%, we can then make the assumption that our coin may not be fair.\n",
    "Running the code above gives us a p-value of roughly 0.8%, which matches the value in our probability distribution above and is also less than the 5% threshold needed to reject our null hypothesis, so it does look like we may have a biased coin.\n"
   ]
  },
  {
   "cell_type": "code",
   "execution_count": 56,
   "metadata": {
    "collapsed": false
   },
   "outputs": [
    {
     "name": "stdout",
     "output_type": "stream",
     "text": [
      "P-value: 0.8%\n"
     ]
    }
   ],
   "source": [
    "# we can also use the binom_test function from scipy to\n",
    "# perform the hypothesis testing\n",
    "pvalue = stats.binom_test(x = 22, n = 30, p = 0.5, alternative = 'greater')\n",
    "print('P-value: {:0.1f}%'.format(pvalue * 100))"
   ]
  },
  {
   "cell_type": "markdown",
   "metadata": {},
   "source": [
    "## Simulation"
   ]
  },
  {
   "cell_type": "markdown",
   "metadata": {},
   "source": [
    "Instead of using the stastistical approach, the code below seeks to answer the same question of whether or not our coin is fair by running a large number of simulated coin flips and calculating the proportion of these experiments that resulted in at least 22 heads or more."
   ]
  },
  {
   "cell_type": "code",
   "execution_count": 59,
   "metadata": {
    "collapsed": false
   },
   "outputs": [
    {
     "name": "stdout",
     "output_type": "stream",
     "text": [
      "Simulated P-value: 0.0%\n"
     ]
    }
   ],
   "source": [
    "def coin_toss(n_simulation = 100000):\n",
    "    \"\"\"\n",
    "    computing a fair coin resulting in at\n",
    "    least 22 heads or more through simulation\n",
    "    \"\"\"\n",
    "    pvalue = 0\n",
    "    for i in range(n_simulation):\n",
    "        # trials: 1 denotes head, 0 denotes tail\n",
    "        trials = np.random.randint(2, size = 30)\n",
    "        if trials.sum() >= 22:\n",
    "            pvalue += 1\n",
    "\n",
    "    pvalue /= n_simulation\n",
    "    return pvalue\n",
    "\n",
    "\n",
    "pvalue = coin_toss()\n",
    "print('Simulated P-value: {:0.1f}%'.format(pvalue * 100))"
   ]
  },
  {
   "cell_type": "markdown",
   "metadata": {},
   "source": [
    "## Frequentist A/B testing"
   ]
  },
  {
   "cell_type": "markdown",
   "metadata": {},
   "source": [
    "A/B testing is essentially a simple randomized trial. Randomized trials are (usually) considered the gold standard study design for evaluating the efficacy of new medical treatments, but they are also used much more widely in experimental research.\n",
    "For example, when someone visits a website, the site sends them to one of two (or possibly more) different landing or home pages, and which one they are sent to is chosen at random. The purpose is to determine which page version generates a superior outcome, e.g. which page generates more advertising revenue, or which which page leads a greater proportion of visitors to continue visiting the site.\n",
    "The key idea is that because we randomize which landing page (or treatment in the case of a randomized clinical trial) someone goes to, after a large number of visitors, the groups of people who visited the two pages are completely comparable in respect of all characteristics (e.g. age, gender, location, and anything else you can think of!). Because the two groups are comparable, we can compare the outcomes (e.g. amount of advertising revenue) between the two groups to obtain an unbiased, and fair, assessment of the relative effectiveness (in terms of our defined outcome) of the two designs.\n",
    "Suppose for the moment that we've had two visitors to our site, and one visitor has been randomized to page A, and the other visitor to page B (note that it is entirely possible, with simple randomization, that both visitors could have both been sent to page A). Suppose next that the visitor to page A generated revenue, but the visitor to page B generated no revenue. Should we conclude that page A is superior to page B, in terms of revenue generation? Of course not. Because we have only sampled two visitors, it is entirely possible that the visitor to page A would have generated revenue even if they had been sent to page B, perhaps because they are very interested in the site's content, whereas perhaps the visitor to page B was not particularly interested in the site content, and was never going to generate revenue. We can overcome this problem by running the A/B testing for a sufficiently large number of visitors, such that the probability that the scenario described above is sufficiently small.\n",
    "Scenario: We ran an A/B test with two different versions of a web page, a and b, for which we count the number of visitors and whether they convert or not. We can summarize this in a contingency table showing the frequency distribution of the events:"
   ]
  },
  {
   "cell_type": "code",
   "execution_count": 60,
   "metadata": {
    "collapsed": false
   },
   "outputs": [
    {
     "data": {
      "text/html": [
       "<div>\n",
       "<table border=\"1\" class=\"dataframe\">\n",
       "  <thead>\n",
       "    <tr style=\"text-align: right;\">\n",
       "      <th></th>\n",
       "      <th>version</th>\n",
       "      <th>not_converted</th>\n",
       "      <th>converted</th>\n",
       "    </tr>\n",
       "  </thead>\n",
       "  <tbody>\n",
       "    <tr>\n",
       "      <th>0</th>\n",
       "      <td>A</td>\n",
       "      <td>4514</td>\n",
       "      <td>486</td>\n",
       "    </tr>\n",
       "    <tr>\n",
       "      <th>1</th>\n",
       "      <td>B</td>\n",
       "      <td>4473</td>\n",
       "      <td>527</td>\n",
       "    </tr>\n",
       "  </tbody>\n",
       "</table>\n",
       "</div>"
      ],
      "text/plain": [
       "  version  not_converted  converted\n",
       "0       A           4514        486\n",
       "1       B           4473        527"
      ]
     },
     "execution_count": 60,
     "metadata": {},
     "output_type": "execute_result"
    }
   ],
   "source": [
    "data = pd.DataFrame({\n",
    "    'version': ['A', 'B'],\n",
    "    'not_converted': [4514, 4473],\n",
    "    'converted': [486, 527]\n",
    "})[['version', 'not_converted', 'converted']]\n",
    "data"
   ]
  },
  {
   "cell_type": "markdown",
   "metadata": {},
   "source": [
    "It is trivial to compute the conversion rate of each version, 486/(486 + 4514) = 9.72% for a and 10.5% for b. With such a relatively small difference, however, can we convincingly say that the version b converts better? To test the statistical significance of a result like this, a hypothesis testing can be used.\n"
   ]
  },
  {
   "cell_type": "markdown",
   "metadata": {},
   "source": [
    "## Comparing Two Proportions"
   ]
  },
  {
   "cell_type": "markdown",
   "metadata": {},
   "source": [
    "et's formalize our thought process a little bit, suppose that we have obtained data from n visitors, $n_A$ of which have been (randomly) sent to page A, and $n_B$ of which have been sent to page B. Further, let $X_A$ and $X_B$ denote the number of visitors for whom we obtained a 'successful' outcome in the two groups. The proportion of successes in the two groups is then given by $\\hat{p_A} = X_A/n_A$ and $\\hat{p_B} = X_B/n_B$ respectively. The estimated difference in success rates is then give by the difference in proportions: $\\hat{p_A} - \\hat{p_B}$:\n",
    "To assess whether we have statistical evidence that the two pages' success rates truely differ, we can perform a hypothesis test. The null hypothesis that we want to test is that the two pages' true success rates are equal, whereas the alternative is that they differ (one is higher than the other). If $p_A$ = the proportion of the page A population whom we obtained a successful outcome and $p_B$ = the proportion of the page B population whom we obtained a successful outcome then we are interested in testing the following hypothesis:\n",
    "$$\\begin{align}\n",
    "H_0:p_A = p_B \\text{ versus } H_A: p_A \\neq p_B\n",
    "\\end{align}$$\n",
    "Or put it in another way, the null hypothesis says that the factors 'page type' and 'outcome' are statistically independent of each other. In words, this means knowing which page someone is sent to tells you nothing about the chance that they will have a successful outcome. Now that we know what hypothesis test we're interested in, we'll have to derive the appropriate test statistic.\n",
    "A test statistic is a single metric that can be used to evaluate the null hypothesis and the standard way to obtain this metric is to compute the z-score that measures how many standard deviations below or above the population mean a raw score is:\n",
    "$$\\begin{align}\n",
    "z = \\frac{x - \\mu}{SE}\n",
    "\\end{align}$$\n",
    "Where:\n",
    "$\\mu$ denotes the mean\n",
    "$\\sigma$ denotes the standard error, computed by $\\frac{s}{\\sqrt{n}}$, where $s$ denotes the standard error and $n$ denotes the number of samples"
   ]
  },
  {
   "cell_type": "markdown",
   "metadata": {},
   "source": [
    "For our test the underlying metric is a binary yes/no variable (event), which means the appropriate test statistic is a test for differences in proportions:\n",
    "$$\\begin{align}\n",
    "Z = \\frac{ (\\hat{p_A} - \\hat{p_B}) - (p_A - p_B) }{SE(p_A - p_B)}\n",
    "\\end{align}$$"
   ]
  },
  {
   "cell_type": "markdown",
   "metadata": {},
   "source": [
    "The test statistic makes sense as it measuring the difference in the observed proportions and the estimated proportion, standardized by an estimate of the standard error of this quantity.\n",
    "To compute the test statistic, we first need to find the standard deviation/variance of $p_A - p_B$:\n"
   ]
  },
  {
   "cell_type": "markdown",
   "metadata": {},
   "source": [
    "$$\\begin{align}\n",
    "Var(p_A - p_B)\n",
    "&amp;= Var(p_A) +  Var(p_B) \\\\\n",
    "&amp;= \\frac{p_A (1 - p_A)}{n_A} + \\frac{p_B (1 - p_B)}{n_B} \\\\\n",
    "&amp;= p (1 - p) \\left( \\frac{1}{n_A} + \\frac{1}{n_B} \\right)\n",
    "\\end{align}$$"
   ]
  },
  {
   "cell_type": "markdown",
   "metadata": {},
   "source": [
    "The first step stems from that fact that, given that we know:\n",
    "The variance of a random variable X is defined as $Var(X) = E[X^2] - E[X]^2$\n",
    "The covariance between two random variable X and Y is defined as $Cov(X, Y) = E[(X - u_x)(y - u_y)] = E[XY] - E[X]E[Y]$\n",
    "When conducting hypothesis test, we know that the two groups should be independent of each other, i.e. the covariance between the two should be 0\n"
   ]
  },
  {
   "cell_type": "markdown",
   "metadata": {},
   "source": [
    "$$\\begin{align}\n",
    "Var(X - Y)\n",
    "&amp;= E[(X - Y)(X - Y)] - E[X - Y]^2 \\\\\n",
    "&amp;= E[X^2 - 2XY + Y^2] - (u_x - u_y)^2 \\\\\n",
    "&amp;= E[X^2 - 2XY + Y^2] - u_x^2 + 2u_xu_y - u_y^2 \\\\\n",
    "&amp;= (E[X^2] - u_x^2) + (E[Y^2] - u_y^2) - 2(E[XY] - u_xu_y) \\\\\n",
    "&amp;= Var(X) + Var(Y) - 2 Cov(X, Y)\n",
    "\\end{align}$$\n",
    "We're using the property that the variance of a binomial proportion is given by: $Var(p_A) = p_A (1 - p_A) / n_A$, the same can be applied for group B\n",
    "The third step comes from the fact that if we assume that the null hypothesis, $p_A = p_B$ is true, then the population proportions equal some common value $p$, that is, $p_A = p_B = p$. Since we don't know the assumed common population proportion $p$ any more than we know the proportions $p_A$ and $p_B$ of each population, we can estimate $p$ using the proportion of \"successes\" in the two combined, $\\hat{p} = (X_A + X_B)/(n_A + n_B)$, which is commonly referred to as the pooled probability\n",
    "During the third step, we utilized that fact that if we assume that the null hypothesis is true, then $p_A = p_B$, this also means $p_A - p_B = 0$. Given all of these information, the formula for our test statistic now becomes:\n",
    "$$\\begin{align}\n",
    "Z\n",
    "&amp;= \\frac{ (\\hat{p_A} - \\hat{p_B}) - (p_A - p_B) }{SE(p_A - p_B)} \\\\\n",
    "&amp;= \\frac{ (\\hat{p_A} - \\hat{p_B}) - 0 }{\\sqrt{\\hat{p} (1 - \\hat{p}) \\left( \\frac{1}{n_A} + \\frac{1}{n_B} \\right)}}\n",
    "\\end{align}$$\n",
    "Where $\\hat{p} = (X_A + X_B)/(n_A + n_B)$"
   ]
  },
  {
   "cell_type": "code",
   "execution_count": 79,
   "metadata": {
    "collapsed": true
   },
   "outputs": [],
   "source": [
    "def two_proprotions_test(success_a, size_a, success_b, size_b):\n",
    "    \"\"\"\n",
    "    A/B test for two proportions;\n",
    "    given a success a trial size of group A and B compute\n",
    "    its zscore and pvalue\n",
    "    \n",
    "    Parameters\n",
    "    ----------\n",
    "    success_a, success_b : int\n",
    "        Number of successes in each group\n",
    "        \n",
    "    size_a, size_b : int\n",
    "        Size, or number of observations in each group\n",
    "    \n",
    "    Returns\n",
    "    -------\n",
    "    zscore : float\n",
    "        test statistic for the two proportion z-test\n",
    "\n",
    "    pvalue : float\n",
    "        p-value for the two proportion z-test\n",
    "    \"\"\"\n",
    "    prop_a = 1.0* success_a / size_a\n",
    "    prop_b = 1.0 * success_b / size_b\n",
    "    prop_pooled = 1.0 * (success_a + success_b) / (size_a + size_b)\n",
    "    var = 1.0 * prop_pooled * (1 - prop_pooled) * (1.0 / size_a + 1.0 / size_b)\n",
    "    zscore = 1.0* np.abs(prop_b - prop_a) / np.sqrt(var)\n",
    "    one_side = 1 - stats.norm(loc = 0, scale = 1).cdf(zscore)\n",
    "    pvalue = one_side * 2\n",
    "    return zscore, pvalue"
   ]
  },
  {
   "cell_type": "code",
   "execution_count": 218,
   "metadata": {
    "collapsed": true
   },
   "outputs": [],
   "source": [
    "def two_proprotions_test_2(success_a, size_a, success_b, size_b):\n",
    "    \"\"\"\n",
    "    A/B test for two proportions;\n",
    "    given a success a trial size of group A and B compute\n",
    "    its zscore and pvalue\n",
    "    \n",
    "    Parameters\n",
    "    ----------\n",
    "    success_a, success_b : int\n",
    "        Number of successes in each group\n",
    "        \n",
    "    size_a, size_b : int\n",
    "        Size, or number of observations in each group\n",
    "    \n",
    "    Returns\n",
    "    -------\n",
    "    zscore : float\n",
    "        test statistic for the two proportion z-test\n",
    "\n",
    "    pvalue : float\n",
    "        p-value for the two proportion z-test\n",
    "    \"\"\"\n",
    "    prop_a = 1.0* success_a / size_a\n",
    "    prop_b = 1.0 * success_b / size_b\n",
    "    prop_pooled = 1.0 * (success_a + success_b) / (size_a + size_b)\n",
    "    var = float(prob_a) * (1 - prob_a)/size_a + float(prob_b) * (1 - prob_b)/size_b\n",
    "    zscore = 1.0* np.abs(prop_b - prop_a) / np.sqrt(var)\n",
    "    one_side = 1 - stats.norm(loc = 0, scale = 1).cdf(zscore)\n",
    "    pvalue = one_side * 2\n",
    "    return zscore, pvalue"
   ]
  },
  {
   "cell_type": "code",
   "execution_count": 119,
   "metadata": {
    "collapsed": false
   },
   "outputs": [
    {
     "name": "stdout",
     "output_type": "stream",
     "text": [
      "zscore = 1.359, pvalue = 0.174\n"
     ]
    }
   ],
   "source": [
    "success_a = 486\n",
    "size_a = 5000\n",
    "success_b = 527\n",
    "size_b = 5000\n",
    "\n",
    "zscore, pvalue = two_proprotions_test(success_a, size_a, success_b, size_b)\n",
    "print('zscore = {:.3f}, pvalue = {:.3f}'.format(zscore, pvalue))"
   ]
  },
  {
   "cell_type": "code",
   "execution_count": 142,
   "metadata": {
    "collapsed": false
   },
   "outputs": [
    {
     "data": {
      "text/plain": [
       "Ttest_indResult(statistic=0.10103114666116064, pvalue=0.91952776107435463)"
      ]
     },
     "execution_count": 142,
     "metadata": {},
     "output_type": "execute_result"
    }
   ],
   "source": [
    "from scipy import stats\n",
    "X = np.random.binomial(1, 486*1.0/5000, 5000)\n",
    "y = np.random.binomial(1, 527 * 1.0/5000, 5000)\n",
    "stats.ttest_ind(X,y)"
   ]
  },
  {
   "cell_type": "code",
   "execution_count": 145,
   "metadata": {
    "collapsed": false
   },
   "outputs": [
    {
     "data": {
      "text/plain": [
       "Ttest_indResult(statistic=-1.9563228341462595, pvalue=0.050454936497844466)"
      ]
     },
     "execution_count": 145,
     "metadata": {},
     "output_type": "execute_result"
    }
   ],
   "source": [
    "X = stats.bernoulli.rvs(1.0*486/5000, size = 5000)\n",
    "y = stats.bernoulli.rvs(1.0 * 527/5000, size = 5000)\n",
    "stats.ttest_ind(X,y)"
   ]
  },
  {
   "cell_type": "code",
   "execution_count": 191,
   "metadata": {
    "collapsed": false
   },
   "outputs": [],
   "source": [
    "X = np.array([1] * 486 + [0] * (5000-486))\n",
    "y = np.array([1] * 527 + [0] * (5000-527))"
   ]
  },
  {
   "cell_type": "code",
   "execution_count": 192,
   "metadata": {
    "collapsed": false
   },
   "outputs": [
    {
     "data": {
      "text/plain": [
       "Ttest_indResult(statistic=-1.3588403321306257, pvalue=0.17422784302176916)"
      ]
     },
     "execution_count": 192,
     "metadata": {},
     "output_type": "execute_result"
    }
   ],
   "source": [
    "stats.ttest_ind(X,y)"
   ]
  },
  {
   "cell_type": "code",
   "execution_count": 81,
   "metadata": {
    "collapsed": false
   },
   "outputs": [
    {
     "ename": "TypeError",
     "evalue": "unsupported operand type(s) for -: 'float' and 'NoneType'",
     "output_type": "error",
     "traceback": [
      "\u001b[0;31m---------------------------------------------------------------------------\u001b[0m",
      "\u001b[0;31mTypeError\u001b[0m                                 Traceback (most recent call last)",
      "\u001b[0;32m<ipython-input-81-62fb8b27c795>\u001b[0m in \u001b[0;36m<module>\u001b[0;34m()\u001b[0m\n\u001b[1;32m      6\u001b[0m \u001b[0mnobs\u001b[0m \u001b[0;34m=\u001b[0m \u001b[0mnp\u001b[0m\u001b[0;34m.\u001b[0m\u001b[0marray\u001b[0m\u001b[0;34m(\u001b[0m\u001b[0;34m[\u001b[0m\u001b[0;36m5000\u001b[0m\u001b[0;34m,\u001b[0m \u001b[0;36m5000\u001b[0m\u001b[0;34m]\u001b[0m\u001b[0;34m)\u001b[0m\u001b[0;34m\u001b[0m\u001b[0m\n\u001b[1;32m      7\u001b[0m \u001b[0;34m\u001b[0m\u001b[0m\n\u001b[0;32m----> 8\u001b[0;31m \u001b[0mzscore\u001b[0m\u001b[0;34m,\u001b[0m \u001b[0mpvalue\u001b[0m \u001b[0;34m=\u001b[0m \u001b[0mproportions_ztest\u001b[0m\u001b[0;34m(\u001b[0m\u001b[0mcounts\u001b[0m\u001b[0;34m,\u001b[0m \u001b[0mnobs\u001b[0m\u001b[0;34m,\u001b[0m \u001b[0malternative\u001b[0m \u001b[0;34m=\u001b[0m \u001b[0;34m'two-sided'\u001b[0m\u001b[0;34m)\u001b[0m\u001b[0;34m\u001b[0m\u001b[0m\n\u001b[0m\u001b[1;32m      9\u001b[0m \u001b[0;32mprint\u001b[0m\u001b[0;34m(\u001b[0m\u001b[0;34m'zscore = {:.3f}, pvalue = {:.3f}'\u001b[0m\u001b[0;34m.\u001b[0m\u001b[0mformat\u001b[0m\u001b[0;34m(\u001b[0m\u001b[0mzscore\u001b[0m\u001b[0;34m,\u001b[0m \u001b[0mpvalue\u001b[0m\u001b[0;34m)\u001b[0m\u001b[0;34m)\u001b[0m\u001b[0;34m\u001b[0m\u001b[0m\n",
      "\u001b[0;32m/Users/April/anaconda/envs/gl-env/lib/python2.7/site-packages/statsmodels/stats/proportion.pyc\u001b[0m in \u001b[0;36mproportions_ztest\u001b[0;34m(count, nobs, value, alternative, prop_var)\u001b[0m\n\u001b[1;32m    575\u001b[0m         \u001b[0mdiff\u001b[0m \u001b[0;34m=\u001b[0m \u001b[0mprop\u001b[0m \u001b[0;34m-\u001b[0m \u001b[0mvalue\u001b[0m\u001b[0;34m\u001b[0m\u001b[0m\n\u001b[1;32m    576\u001b[0m     \u001b[0;32melif\u001b[0m \u001b[0mk_sample\u001b[0m \u001b[0;34m==\u001b[0m \u001b[0;36m2\u001b[0m\u001b[0;34m:\u001b[0m\u001b[0;34m\u001b[0m\u001b[0m\n\u001b[0;32m--> 577\u001b[0;31m         \u001b[0mdiff\u001b[0m \u001b[0;34m=\u001b[0m \u001b[0mprop\u001b[0m\u001b[0;34m[\u001b[0m\u001b[0;36m0\u001b[0m\u001b[0;34m]\u001b[0m \u001b[0;34m-\u001b[0m \u001b[0mprop\u001b[0m\u001b[0;34m[\u001b[0m\u001b[0;36m1\u001b[0m\u001b[0;34m]\u001b[0m \u001b[0;34m-\u001b[0m \u001b[0mvalue\u001b[0m\u001b[0;34m\u001b[0m\u001b[0m\n\u001b[0m\u001b[1;32m    578\u001b[0m     \u001b[0;32melse\u001b[0m\u001b[0;34m:\u001b[0m\u001b[0;34m\u001b[0m\u001b[0m\n\u001b[1;32m    579\u001b[0m         \u001b[0mmsg\u001b[0m \u001b[0;34m=\u001b[0m \u001b[0;34m'more than two samples are not implemented yet'\u001b[0m\u001b[0;34m\u001b[0m\u001b[0m\n",
      "\u001b[0;31mTypeError\u001b[0m: unsupported operand type(s) for -: 'float' and 'NoneType'"
     ]
    }
   ],
   "source": [
    "# or we can use the implementation from statsmodels\n",
    "# where we pass in the success (they call the argument counts)\n",
    "# and the total number for each group (they call the argument nobs,\n",
    "# number of observations)\n",
    "counts = np.array([486, 527])\n",
    "nobs = np.array([5000, 5000])\n",
    "\n",
    "zscore, pvalue = proportions_ztest(counts, nobs, alternative = 'two-sided')\n",
    "print('zscore = {:.3f}, pvalue = {:.3f}'.format(zscore, pvalue))"
   ]
  },
  {
   "cell_type": "markdown",
   "metadata": {},
   "source": [
    "Based on the fact that our p-value is not smaller than the 0.05 commonly used threshold, the test statistic tells us we do not have strong evidence against our null hypothesis, i.e. we do not have strong evidence that the two pages are not equally effective.\n",
    "Apart from spitting out the p-value, we will also look at forming a confidence interval for $\\hat{p_A} - \\hat{p_B}$. If the number of trials in both groups is large, and the observed number of successes are not too small, we can calculate a 95% confidence interval using the formula:\n",
    "$$\\begin{align}\n",
    "\\text{point estimate} \\pm z * SE\n",
    "&amp;= (\\hat{p_A} - \\hat{p_B}) \\pm z * \\frac{p_A (1 - p_A)}{n_A} + \\frac{p_B (1 - p_B)}{n_B}\n",
    "\\end{align}$$\n",
    "Note that when calculating the confidence interval because we no longer have the assumption that $p_A = p_B$ from our null hypothesis, thus we can't leverage this property and use the pooled probability."
   ]
  },
  {
   "cell_type": "code",
   "execution_count": 108,
   "metadata": {
    "collapsed": true
   },
   "outputs": [],
   "source": [
    "def two_proprotions_conf(success_a, size_a, success_b, size_b, significance):\n",
    "    prob_a = 1.0 * success_a / size_a\n",
    "    prob_b = 1.0 * success_b/size_b\n",
    "    variance =  1.0* prob_a * (1-prob_a)/size_a +  1.0*prob_b * (1-prob_b)/size_b\n",
    "    # z critical value\n",
    "    confidence = 1 - significance\n",
    "    z = stats.norm(loc = 0, scale = 1).ppf(confidence + significance / 2)\n",
    "    conf_low = prob_b - prob_a - z *np.sqrt(variance)\n",
    "    conf_high = prob_b - prob_a + z * np.sqrt(variance)\n",
    "    return conf_low, conf_high"
   ]
  },
  {
   "cell_type": "code",
   "execution_count": 109,
   "metadata": {
    "collapsed": false
   },
   "outputs": [],
   "source": [
    "success_a = 486\n",
    "size_a = 5000\n",
    "success_b = 527\n",
    "size_b = 5000\n",
    "significance = 0.05\n",
    "conf_low, conf_high = two_proprotions_conf(success_a, size_a, success_b, size_b, significance)"
   ]
  },
  {
   "cell_type": "code",
   "execution_count": 110,
   "metadata": {
    "collapsed": false
   },
   "outputs": [
    {
     "data": {
      "text/plain": [
       "(-0.0036263323824051279, 0.020026332382405126)"
      ]
     },
     "execution_count": 110,
     "metadata": {},
     "output_type": "execute_result"
    }
   ],
   "source": [
    "conf_low, conf_high"
   ]
  },
  {
   "cell_type": "markdown",
   "metadata": {},
   "source": [
    "Up till this point, we've been using the 5000 as the total number of observations/samples that are involved in the A/B testing process. The next question that we'll address is, in real world scenarios, how many obeservations do we need in order to draw a valid verdict on the test result. This leads us to our next topic power."
   ]
  },
  {
   "cell_type": "markdown",
   "metadata": {},
   "source": [
    "## Introducing Power"
   ]
  },
  {
   "cell_type": "markdown",
   "metadata": {},
   "source": [
    "In the world of hypothesis testing, rejecting the null hypothesis when it is actually true is called a type 1 error, often denoted as $\\alpha$. Committing a type 1 error is a false positive because we end up recommending something that does not work. Conversely, a type 2 error, often denoted as $\\beta$, occurs when you do not reject the null hypothesis when it is actually false. This is a false negative because we end up sitting on our hands when we should have taken action. We need to consider both of these types of errors when choosing the sample size.\n",
    "Two important probabilities related to type 1 and type 2 error are:\n",
    "Significance level: Governs the chance of a false positive. A significance level of 0.05 means that there is a 5% chance of a false positive. Choosing level of significance is an arbitrary task, but for many applications, a level of 5% is chosen, for no better reason than that it is conventional\n",
    "Statistical power Power of 0.80 means that there is an 80% chance that if there was an effect, we would detect it (or a 20% chance that we'd miss the effect). In other words, power is equivalent to $1 - \\beta$. There are no formal standards for power, most researchers assess the power of their tests using 0.80 for adequacy"
   ]
  },
  {
   "cell_type": "markdown",
   "metadata": {},
   "source": [
    "\n",
    "Scenario\t$H_0$ is true\t$H_0$ is false\n",
    "Accept $H_0$\tCorrect Decision\tType 2 Error (1 - power)\n",
    "Reject $H_0$\tType 1 Error (significance level)\tCorrect decision"
   ]
  },
  {
   "cell_type": "markdown",
   "metadata": {},
   "source": [
    "The concepts of power and significance level can seem somewhat convoluted at first glance. A good way to get a feel for the underlying mechanics is to plot the probability distribution of $Z$ assuming that the null hypothesis is true. Then do the same assuming that the alternative hypothesis is true, and overlay the two plots.\n",
    "Consider the following example: $H_0: p_A = p_B, H_1: p_A &gt; p_B$. A one-sided test was chosen here for charting-simplicity.\n",
    "Total sample size, N=5,000 (assume equal sample sizes for the control and experiment groups, meaning exactly 2,500 in each group)\n",
    "Say we decide that we need to observe a difference of 0.02 (detailed later) in order to be satisfied that the intervention worked (i.e., assuming that our original baseline, $p_B$ was 0.08, then we want $p_A = 0.10$). We will discuss how to make this decision later in the post"
   ]
  },
  {
   "cell_type": "code",
   "execution_count": 229,
   "metadata": {
    "collapsed": true
   },
   "outputs": [],
   "source": [
    "def plot_power(min_diff, prob_b, size_a, size_b, significance = 0.05):\n",
    "    \"\"\"illustrating power through a one-tailed hypothesis test\"\"\"\n",
    "    \n",
    "    # obtain the z-score for the minimum detectable\n",
    "    # difference using proportion_ztest\n",
    "    prob_a = prob_b + min_diff\n",
    "    count_a = size_a * prob_a\n",
    "    count_b = size_b * prob_b\n",
    "    counts = np.array([count_a, count_b])\n",
    "    nobs = np.array([size_a, size_b])\n",
    "    X = np.array([1] * int(count_a) + [0] * int((size_a-count_a)))\n",
    "    y = np.array([1] * int(count_b) + [0] * int((size_b-count_b)))\n",
    "    #z_score, pvalue = two_proprotions_test(count_a, size_a, count_b, size_b)\n",
    "    z_score, pvalue = stats.ttest_ind(X,y)\n",
    "    \n",
    "    # distribution for the null hypothesis, h0\n",
    "    # and alternative hypothesis, h1\n",
    "    h0 = stats.norm(loc = 0, scale = 1)\n",
    "    h1 = stats.norm(loc = z_score, scale = 1)\n",
    "\n",
    "    # points that are greater than the zscore for the\n",
    "    # specified significance level\n",
    "    x = np.linspace(-5, 6, num = 100)\n",
    "    threshold = h0.ppf(1 - significance)\n",
    "    mask = x > threshold\n",
    "    \n",
    "    # power is the area after the thresold, i.e.\n",
    "    # 1 - the cumulative distribution function of that point\n",
    "    power = np.round(1 - h1.cdf(threshold), 2)\n",
    "\n",
    "    hypotheses = [h1, h0]\n",
    "    labels = ['$H_1$ is true', '$H_0$ is true']\n",
    "    for hypothesis, label in zip(hypotheses, labels):\n",
    "        y = hypothesis.pdf(x)\n",
    "        line = plt.plot(x, y, label = label)  \n",
    "        plt.fill_between(x = x[mask], y1 = 0.0, y2 = y[mask],\n",
    "                         alpha = 0.2, color = line[0].get_color())\n",
    "    \n",
    "    title = 'p1: {}, p2: {}, size1: {}, size2: {}, power: {}'\n",
    "    plt.title(title.format(prob_a, prob_b, size_a, size_b, power))\n",
    "    plt.legend()\n",
    "    plt.tight_layout()\n",
    "    plt.show()"
   ]
  },
  {
   "cell_type": "code",
   "execution_count": 230,
   "metadata": {
    "collapsed": false
   },
   "outputs": [
    {
     "data": {
      "image/png": "iVBORw0KGgoAAAANSUhEUgAAAagAAAEaCAYAAABEsMO+AAAABHNCSVQICAgIfAhkiAAAAAlwSFlz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\n",
      "text/plain": [
       "<matplotlib.figure.Figure at 0x11ab99990>"
      ]
     },
     "metadata": {},
     "output_type": "display_data"
    }
   ],
   "source": [
    "prob_b = 0.08\n",
    "min_diff = 0.02\n",
    "size_a = 2500\n",
    "size_b = 2500\n",
    "\n",
    "plot_power(min_diff, prob_b, size_a, size_b, significance = 0.05)\n"
   ]
  },
  {
   "cell_type": "markdown",
   "metadata": {},
   "source": [
    "The shaded green area denotes the significance region, while the the shaded blue area denotes the power (note that it includes the shaded green area). Note that if we pick a smaller N, or a smaller probability difference between the control and experiment group, the power drops (the shaded blue area decreases), meaning that if there’s is in fact a change, there’s lesser percent chance that we’ll detect it."
   ]
  },
  {
   "cell_type": "code",
   "execution_count": 231,
   "metadata": {
    "collapsed": false
   },
   "outputs": [
    {
     "data": {
      "image/png": "iVBORw0KGgoAAAANSUhEUgAAAagAAAEaCAYAAABEsMO+AAAABHNCSVQICAgIfAhkiAAAAAlwSFlz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\nfYWLWAAAAABJRU5ErkJggg==\n",
      "text/plain": [
       "<matplotlib.figure.Figure at 0x119e79690>"
      ]
     },
     "metadata": {},
     "output_type": "display_data"
    }
   ],
   "source": [
    "# smaller N\n",
    "prob_b = 0.08\n",
    "min_diff = 0.02\n",
    "size_a = 1250\n",
    "size_b = 1250\n",
    "\n",
    "plot_power(min_diff, prob_b, size_a, size_b)"
   ]
  },
  {
   "cell_type": "code",
   "execution_count": 232,
   "metadata": {
    "collapsed": false
   },
   "outputs": [
    {
     "data": {
      "image/png": "iVBORw0KGgoAAAANSUhEUgAAAaQAAAEaCAYAAABejCMwAAAABHNCSVQICAgIfAhkiAAAAAlwSFlz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\nOI5TEFxCchzHcQqCS0iO4zhOQfgvDTbglRajsaYAAAAASUVORK5CYII=\n",
      "text/plain": [
       "<matplotlib.figure.Figure at 0x11b02eb90>"
      ]
     },
     "metadata": {},
     "output_type": "display_data"
    }
   ],
   "source": [
    "# smaller probability difference\n",
    "prob_b = 0.08\n",
    "min_diff = 0.001\n",
    "size_a = 2500\n",
    "size_b = 2500\n",
    "\n",
    "plot_power(min_diff, prob_b, size_a, size_b)"
   ]
  },
  {
   "cell_type": "markdown",
   "metadata": {},
   "source": [
    "The following link illustrates power for a two-sided hypothesis test for those interested. Youtube: Calculating Power and the Probability of a Type II Error (A Two-Tailed Example)"
   ]
  },
  {
   "cell_type": "markdown",
   "metadata": {},
   "source": [
    "## Determine Sample Size"
   ]
  },
  {
   "cell_type": "markdown",
   "metadata": {},
   "source": [
    "Say we've followed the rule of thumb and require the significance level to be 5% and the power to be 80%. This means we have now specified two key components of a power analysis.\n",
    "A decision rule of when to reject the null hypothesis. We reject the null when the p-value is less than 5%.\n",
    "Our tolerance for committing type 2 error (1−80%=20%).\n",
    "To actually solve for the equation of finding the suitable sample size, we also need to specify the detectable difference, the level of impact we want to be able to detect with our test.\n",
    "In order to explain the dynamics behind this, we'll return to the definition of power: the power is the probability of rejecting the null hypothesis when it is false. Hence for us to calculate the power, we need to define what \"false\" means to us in the context of the study. In other words, how much impact, i.e., difference between test and control, do we need to observe in order to reject the null hypothesis and conclude that the action worked?\n",
    "Let's consider two illustrative examples: if we think that an event rate reduction of, say, $10^{-10}$ is enough to reject the null hypothesis, then we need a very large sample size to get a power of 80%. This is pretty easy to deduce from the charts above: if the difference in event rates between test and control is a small number like $10^{-10}$, the null and alternative probability distributions will be nearly indistinguishable. Hence we will need to increase the sample size in order to move the alternative distribution to the right and gain power. Conversely, if we only require a reduction of 0.02 in order to claim success, we can make do with a much smaller sample size.\n",
    "The smaller the detectable difference, the larger the required sample size\n",
    "Here's how we could conduct a power test in python:"
   ]
  },
  {
   "cell_type": "code",
   "execution_count": 238,
   "metadata": {
    "collapsed": true
   },
   "outputs": [],
   "source": [
    "import statsmodels.stats.api as sms\n",
    "\n",
    "\n",
    "def compute_sample_size(prop1, min_diff, significance = 0.05, power = 0.8):\n",
    "    \"\"\"\n",
    "    Computes the sample sized required for a two-proportion A/B test;\n",
    "    result matches R's pwr.2p.test from the pwr package\n",
    "    \n",
    "    Parameters\n",
    "    ----------\n",
    "    prop1 : float\n",
    "        The baseline proportion, e.g. conversion rate \n",
    "        \n",
    "    min_diff : float\n",
    "        Minimum detectable difference\n",
    "        \n",
    "    significance : float, default 0.05\n",
    "        Often denoted as alpha. Governs the chance of a false positive.\n",
    "        A significance level of 0.05 means that there is a 5% chance of\n",
    "        a false positive. In other words, our confidence level is\n",
    "        1 - 0.05 = 0.95\n",
    "    \n",
    "    power : float, default 0.8\n",
    "        Often denoted as beta. Power of 0.80 means that there is an 80%\n",
    "        chance that if there was an effect, we would detect it\n",
    "        (or a 20% chance that we'd miss the effect)\n",
    "        \n",
    "    Returns\n",
    "    -------\n",
    "    sample_size : int\n",
    "        Required sample size for each group of the experiment\n",
    "\n",
    "    References\n",
    "    ----------\n",
    "    R pwr package's vignette\n",
    "    - https://cran.r-project.org/web/packages/pwr/vignettes/pwr-vignette.html\n",
    "\n",
    "    Stackoverflow: Is there a python (scipy) function to determine parameters\n",
    "    needed to obtain a target power?\n",
    "    - https://stackoverflow.com/questions/15204070/is-there-a-python-scipy-function-to-determine-parameters-needed-to-obtain-a-ta\n",
    "    \"\"\"\n",
    "    prop2 = prop1 + min_diff\n",
    "    effect_size = sms.proportion_effectsize(prop1, prop2)\n",
    "    sample_size = sms.NormalIndPower().solve_power(\n",
    "        effect_size, power = power, alpha = significance, ratio = 1)\n",
    "    \n",
    "    return sample_size"
   ]
  },
  {
   "cell_type": "code",
   "execution_count": 239,
   "metadata": {
    "collapsed": false
   },
   "outputs": [
    {
     "data": {
      "text/plain": [
       "3834.5957398840183"
      ]
     },
     "execution_count": 239,
     "metadata": {},
     "output_type": "execute_result"
    }
   ],
   "source": [
    "compute_sample_size(prop1 = 0.1, min_diff = 0.02)"
   ]
  },
  {
   "cell_type": "markdown",
   "metadata": {},
   "source": [
    "ote that the printed result is the sample size needed for each group!\n",
    "Unlike the significance level and the power, there are no plug-and-play values we can use for the detectable difference. The key is to define what \"pay off\" means for the study at hand, which depends on what the adverse event is a well as the cost of the action. Two guiding principles:\n",
    "Avoid wasteful sampling Let’s say it takes an absolute difference of 0.02 between test and control in order for the treatment to pay off. In this case, aiming for a 0.01 detectable difference would just lead to more precision than we really need. Why have the ability to detect 0.01 if we don’t really care about a 0.01 difference? In many cases, sampling for unnecessary precision can be costly and a waste of time\n",
    "Avoid missed opportunities Conversely, if we are analyzing a sensitive metric where small changes can have a large impact e.g. email campaigns, we have to aim for a small detectable difference. If we choose an insufficient sample size, we may end up sitting on our hands and missing an opportunity (type 2 error)\n",
    "Hence, choosing the minimum detectable difference should be a cross-functional analysis/discussion between the data scientist and the business stakeholder. Once there is a viable range for the detectable difference, we can evaluate the sample size required for each option. For example, let’s say that $p1=0.10$ and we want the detectable difference to be between 0.01 and 0.03. Clearly, we’d rather be able to detect a difference of 0.01, but it may be too costly and hence we want to evaluate more conservative options as well."
   ]
  },
  {
   "cell_type": "code",
   "execution_count": 240,
   "metadata": {
    "collapsed": false
   },
   "outputs": [
    {
     "data": {
      "image/png": "iVBORw0KGgoAAAANSUhEUgAAAaUAAAEbCAYAAAB6EpurAAAABHNCSVQICAgIfAhkiAAAAAlwSFlz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\n8KDknHOuZPx/HzzvO3GHSqUAAAAASUVORK5CYII=\n",
      "text/plain": [
       "<matplotlib.figure.Figure at 0x11a778d10>"
      ]
     },
     "metadata": {},
     "output_type": "display_data"
    }
   ],
   "source": [
    "# calculate the the required sample size\n",
    "# for a range of minimum detectable difference\n",
    "sample_sizes = []\n",
    "min_diffs = np.arange(0.01, 0.03, 0.001)\n",
    "for min_diff in min_diffs:\n",
    "    sample_size = compute_sample_size(prop1 = 0.1, min_diff = min_diff)\n",
    "    sample_sizes.append(sample_size)\n",
    "\n",
    "plt.plot(min_diffs, sample_sizes)\n",
    "plt.title('Sample Size Required for the Minimum Detectable Difference')\n",
    "plt.ylabel('Sample Size')\n",
    "plt.xlabel('Minimum Detectable Difference')\n",
    "plt.tight_layout()\n",
    "plt.show()\n"
   ]
  },
  {
   "cell_type": "markdown",
   "metadata": {},
   "source": [
    "From the graph, we can see that we need roughly 10x more observations to get a detectable difference of 0.01 compared to 0.03.\n",
    "The following section is an alternative way of conducting a test statistic for proportional A/B test, feel free to skip it, it will not affect that understanding of later section."
   ]
  },
  {
   "cell_type": "markdown",
   "metadata": {},
   "source": [
    "# Alternative View of the Test Statistic"
   ]
  },
  {
   "cell_type": "markdown",
   "metadata": {},
   "source": [
    "There are two types of the chi-squared test, goodness of fit and test of independence, but it is the latter which is useful for the case in question. The reason as to why a test of “independence” is applicable becomes clear by converting the contingency table into a probability matrix by dividing each element by the grand total of frequencies:\n"
   ]
  },
  {
   "cell_type": "code",
   "execution_count": 242,
   "metadata": {
    "collapsed": false
   },
   "outputs": [],
   "source": [
    "cols = ['not_converted', 'converted']\n",
    "data[cols] = data[cols] / data[cols].values.sum()\n"
   ]
  },
  {
   "cell_type": "code",
   "execution_count": 246,
   "metadata": {
    "collapsed": false
   },
   "outputs": [
    {
     "data": {
      "text/html": [
       "<div>\n",
       "<table border=\"1\" class=\"dataframe\">\n",
       "  <thead>\n",
       "    <tr style=\"text-align: right;\">\n",
       "      <th></th>\n",
       "      <th>version</th>\n",
       "      <th>not_converted</th>\n",
       "      <th>converted</th>\n",
       "    </tr>\n",
       "  </thead>\n",
       "  <tbody>\n",
       "    <tr>\n",
       "      <th>0</th>\n",
       "      <td>A</td>\n",
       "      <td>0.4514</td>\n",
       "      <td>0.0486</td>\n",
       "    </tr>\n",
       "    <tr>\n",
       "      <th>1</th>\n",
       "      <td>B</td>\n",
       "      <td>0.4473</td>\n",
       "      <td>0.0527</td>\n",
       "    </tr>\n",
       "  </tbody>\n",
       "</table>\n",
       "</div>"
      ],
      "text/plain": [
       "  version  not_converted  converted\n",
       "0       A         0.4514     0.0486\n",
       "1       B         0.4473     0.0527"
      ]
     },
     "execution_count": 246,
     "metadata": {},
     "output_type": "execute_result"
    }
   ],
   "source": [
    "data"
   ]
  },
  {
   "cell_type": "markdown",
   "metadata": {},
   "source": [
    "We will denote $V$ as the version of the web page ($a$ or $b$) and $C$ as the conversion result, $f$ (false did not convert) or $t$ (true did in fact convert). The table that we computed above, which this the data that we observed can then be translated into this form:\n",
    "Version (V)\t$f$ (false did not convert)\t$t$ (true did in fact convert)\n",
    "A\t$P(V = a, C = f)$\t$P(V = a, C = t)$\n",
    "B\t$P(V = b, C = f)$\t$P(V = b, C = t)$\n",
    "Now, our interest is whether the conversion $C$ depends on the page version $V$, and if it does, to learn which version converts better. In probability theory, the events $C$ and $V$ are said to be independent if the joint probability can be computed by $P(V, C) = P(V) \\cdot P(C)$, where $P(V)$ and $P(C)$ are marginal probabilities of $V$ and $C$, respectively. It is straightforward to compute the marginal probabilities from row and column marginals:\n",
    "$$P(V = a) = \\frac{4514 + 486}{10000}  \\hspace{1cm} P(V = b) = \\frac{4473 + 527}{10000}$$$$P(C = f) = \\frac{4514 + 4473}{10000} \\hspace{1cm} P(V = b) = \\frac{486 + 527}{10000}$$\n",
    "The null hypothesis is that $V$ and $C$ are independent, in which case the elements of the matrix, a.k.a the distribution that we're expecting is equivalent to:\n",
    "Version (V)\t$f$ (false did not convert)\t$t$ (true did in fact convert)\n",
    "A\t$P(V = a)P(C = f)$\t$P(V = a)P(C = t)$\n",
    "B\t$P(V = b)P(C = f)$\t$P(V = b)P(C = t)$\n",
    "The conversion $C$ is said to be dependent on the version $V$ of the web site if this null hypothesis is rejected. Hence rejecting the null hypothesis means that one version is better at converting than the other. This is the reason why the test is on independence.\n",
    "When dealing with counts and investigating how far the observed counts are from the expected counts, we use a test statistic called the chi-square test. The chi-squared test compares an observed distribution $O_{ij}$ to an expected distribution $E_{ij}$:\n",
    "$$\\begin{align}\n",
    "\\chi^2 = \\sum_{i,j} \\frac{(O_{ij} - E_{ij})^2}{E_{ij}}\n",
    "\\end{align}$$\n",
    "It's calculated as the observed minus the expected for each cell squared divided by the expected counts, the division with the expected counts makes final result proportional to our expected frequency. After performing the computation for each cell, we want to sum this over all of the cells (levels of the categorical variable).\n",
    "This $\\chi^2$ probability distribution has only one parameter, the degrees of freedom. It influences the shape, the center and the spread of the chi-square distribution."
   ]
  },
  {
   "cell_type": "code",
   "execution_count": null,
   "metadata": {
    "collapsed": true
   },
   "outputs": [],
   "source": []
  }
 ],
 "metadata": {
  "kernelspec": {
   "display_name": "Python 2",
   "language": "python",
   "name": "python2"
  },
  "language_info": {
   "codemirror_mode": {
    "name": "ipython",
    "version": 2
   },
   "file_extension": ".py",
   "mimetype": "text/x-python",
   "name": "python",
   "nbconvert_exporter": "python",
   "pygments_lexer": "ipython2",
   "version": "2.7.11"
  }
 },
 "nbformat": 4,
 "nbformat_minor": 0
}
